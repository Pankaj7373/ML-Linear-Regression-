{
 "cells": [
  {
   "cell_type": "code",
   "execution_count": 13,
   "id": "272e4690",
   "metadata": {},
   "outputs": [],
   "source": [
    "#imported liabraries from sklearn import mertics \n",
    "import pandas as pd \n",
    "import numpy as np \n",
    "import matplotlib.pyplot as plt \n",
    "%matplotlib inline "
   ]
  },
  {
   "cell_type": "code",
   "execution_count": 14,
   "id": "b0d18ad2",
   "metadata": {},
   "outputs": [],
   "source": [
    "#import data and extract dependent and independent variables \n",
    "Salary_Data = pd.read_csv('Salary_Data.csv')\n",
    "X = Salary_Data.iloc[:,:-1].values \n",
    "y = Salary_Data.iloc[:,1].values"
   ]
  },
  {
   "cell_type": "code",
   "execution_count": 15,
   "id": "c567ce58",
   "metadata": {},
   "outputs": [],
   "source": [
    "#splitting the dataset into training and testing set \n",
    "from sklearn.model_selection import train_test_split \n",
    "X_train , X_test , y_train , y_test = train_test_split(X , y , test_size = 0.5 , random_state = 0)"
   ]
  },
  {
   "cell_type": "code",
   "execution_count": 16,
   "id": "0234d7e4",
   "metadata": {},
   "outputs": [
    {
     "data": {
      "text/plain": [
       "LinearRegression()"
      ]
     },
     "execution_count": 16,
     "metadata": {},
     "output_type": "execute_result"
    }
   ],
   "source": [
    "#now fitting simple linear regression \n",
    "from sklearn.linear_model import LinearRegression \n",
    "lr = LinearRegression()\n",
    "lr.fit(X_train , y_train)"
   ]
  },
  {
   "cell_type": "code",
   "execution_count": 17,
   "id": "3292dbb0",
   "metadata": {},
   "outputs": [
    {
     "data": {
      "text/plain": [
       "array([ 41050.78963422, 121866.40308407,  64928.12997168,  63091.41148418,\n",
       "       114519.52913409, 107172.6551841 , 115437.88837784,  64009.77072793,\n",
       "        75948.44089666,  99825.78123411,  53907.8190467 ,  74111.72240916,\n",
       "        56662.89677794,  68601.56694667, 102580.85896536])"
      ]
     },
     "execution_count": 17,
     "metadata": {},
     "output_type": "execute_result"
    }
   ],
   "source": [
    "#predicting test result (and we pass X_test i.e independent varibale)\n",
    "y_pred = lr.predict(X_test)\n",
    "y_pred"
   ]
  },
  {
   "cell_type": "code",
   "execution_count": 18,
   "id": "84f99463",
   "metadata": {},
   "outputs": [
    {
     "data": {
      "image/png": "[encoded data removed]",
      "text/plain": [
       "<Figure size 432x288 with 1 Axes>"
      ]
     },
     "metadata": {
      "needs_background": "light"
     },
     "output_type": "display_data"
    }
   ],
   "source": [
    "#plotting or visualizing training set result \n",
    "plt.scatter(X_train , y_train , color = 'blue')\n",
    "plt.plot(X_train , lr.predict(X_train) , color = 'red')\n",
    "plt.title('Salary~Experience(Train Set)')\n",
    "plt.xlabel('Year of Experience')\n",
    "plt.ylabel('Salary')\n",
    "plt.show()"
   ]
  },
  {
   "cell_type": "code",
   "execution_count": 39,
   "id": "a92d06bd",
   "metadata": {},
   "outputs": [
    {
     "data": {
      "image/png": "[encoded data removed]",
      "text/plain": [
       "<Figure size 432x288 with 1 Axes>"
      ]
     },
     "metadata": {
      "needs_background": "light"
     },
     "output_type": "display_data"
    }
   ],
   "source": [
    "#plotting or visualizing testing set result \n",
    "plt.scatter(X_test , y_test , color = 'blue')\n",
    "plt.plot(X_test , lr.predict(X_test) , color = 'red')\n",
    "plt.title('Salary~Experience(Test Set)')\n",
    "plt.xlabel('Year of Experience')\n",
    "plt.ylabel('Salary')\n",
    "plt.show()"
   ]
  },
  {
   "cell_type": "code",
   "execution_count": 20,
   "id": "11df5ecf",
   "metadata": {},
   "outputs": [
    {
     "name": "stdout",
     "output_type": "stream",
     "text": [
      "MSE : 35207447.00483354\n",
      "MAE : 4898.738150685481\n",
      "RMSE : 69.99098621026482\n",
      "R^2 : 0.952801713096894\n"
     ]
    }
   ],
   "source": [
    "#calculating residual \n",
    "from sklearn import metrics\n",
    "print('MSE :' , metrics.mean_squared_error(y_test , y_pred))\n",
    "print('MAE :' , metrics.mean_absolute_error(y_test , y_pred))\n",
    "print('RMSE :' , np.sqrt(metrics.mean_absolute_error(y_test , y_pred)))\n",
    "print('R^2 :' ,lr.score(X_test , y_test))"
   ]
  },
  {
   "cell_type": "code",
   "execution_count": 29,
   "id": "34d9700c",
   "metadata": {
    "scrolled": false
   },
   "outputs": [],
   "source": [
    "#predict slarary for new employee\n",
    "X_new = ([1.2],   [1.4],   [2.1])\n",
    "y_new = ([42774], [41,968],[40,628])"
   ]
  },
  {
   "cell_type": "code",
   "execution_count": 30,
   "id": "623ee615",
   "metadata": {},
   "outputs": [
    {
     "data": {
      "text/plain": [
       "array([38295.71190298, 40132.43039047, 46560.94509671])"
      ]
     },
     "execution_count": 30,
     "metadata": {},
     "output_type": "execute_result"
    }
   ],
   "source": [
    "model = lr.predict(X_new)\n",
    "model"
   ]
  },
  {
   "cell_type": "code",
   "execution_count": 32,
   "id": "98b93c7f",
   "metadata": {},
   "outputs": [
    {
     "data": {
      "text/plain": [
       "1.0"
      ]
     },
     "execution_count": 32,
     "metadata": {},
     "output_type": "execute_result"
    }
   ],
   "source": [
    "lr.score(X_new,model)"
   ]
  },
  {
   "cell_type": "code",
   "execution_count": null,
   "id": "b2d860c5",
   "metadata": {},
   "outputs": [],
   "source": []
  },
  {
   "cell_type": "code",
   "execution_count": null,
   "id": "05f28c7e",
   "metadata": {},
   "outputs": [],
   "source": []
  }
 ],
 "metadata": {
  "kernelspec": {
   "display_name": "Python 3 (ipykernel)",
   "language": "python",
   "name": "python3"
  },
  "language_info": {
   "codemirror_mode": {
    "name": "ipython",
    "version": 3
   },
   "file_extension": ".py",
   "mimetype": "text/x-python",
   "name": "python",
   "nbconvert_exporter": "python",
   "pygments_lexer": "ipython3",
   "version": "3.8.0"
  }
 },
 "nbformat": 4,
 "nbformat_minor": 5
}
